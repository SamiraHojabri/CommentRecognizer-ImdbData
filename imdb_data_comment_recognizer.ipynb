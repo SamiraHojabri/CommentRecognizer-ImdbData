{
  "nbformat": 4,
  "nbformat_minor": 0,
  "metadata": {
    "colab": {
      "name": "imdb data-comment recognizer.ipynb",
      "provenance": [],
      "authorship_tag": "ABX9TyMKa+LhvY9ffAQSeq5E4uY3",
      "include_colab_link": true
    },
    "kernelspec": {
      "name": "python3",
      "display_name": "Python 3"
    },
    "language_info": {
      "name": "python"
    }
  },
  "cells": [
    {
      "cell_type": "markdown",
      "metadata": {
        "id": "view-in-github",
        "colab_type": "text"
      },
      "source": [
        "<a href=\"https://colab.research.google.com/github/mahdiehhojabri/CommentRecognizer-ImdbData/blob/main/imdb_data_comment_recognizer.ipynb\" target=\"_parent\"><img src=\"https://colab.research.google.com/assets/colab-badge.svg\" alt=\"Open In Colab\"/></a>"
      ]
    },
    {
      "cell_type": "code",
      "metadata": {
        "colab": {
          "base_uri": "https://localhost:8080/"
        },
        "id": "WTOAs1CN98vX",
        "outputId": "d467e591-68a4-4768-8f30-fe6403d0263e"
      },
      "source": [
        "#Loading data\n",
        "\n",
        "from keras.datasets import imdb\n",
        "(train_data, train_labels), (test_data, test_labels)= imdb.load_data(num_words=10000)"
      ],
      "execution_count": null,
      "outputs": [
        {
          "output_type": "stream",
          "text": [
            "Downloading data from https://storage.googleapis.com/tensorflow/tf-keras-datasets/imdb.npz\n",
            "17465344/17464789 [==============================] - 0s 0us/step\n"
          ],
          "name": "stdout"
        },
        {
          "output_type": "stream",
          "text": [
            "<string>:6: VisibleDeprecationWarning: Creating an ndarray from ragged nested sequences (which is a list-or-tuple of lists-or-tuples-or ndarrays with different lengths or shapes) is deprecated. If you meant to do this, you must specify 'dtype=object' when creating the ndarray\n",
            "/usr/local/lib/python3.7/dist-packages/tensorflow/python/keras/datasets/imdb.py:159: VisibleDeprecationWarning: Creating an ndarray from ragged nested sequences (which is a list-or-tuple of lists-or-tuples-or ndarrays with different lengths or shapes) is deprecated. If you meant to do this, you must specify 'dtype=object' when creating the ndarray\n",
            "  x_train, y_train = np.array(xs[:idx]), np.array(labels[:idx])\n",
            "/usr/local/lib/python3.7/dist-packages/tensorflow/python/keras/datasets/imdb.py:160: VisibleDeprecationWarning: Creating an ndarray from ragged nested sequences (which is a list-or-tuple of lists-or-tuples-or ndarrays with different lengths or shapes) is deprecated. If you meant to do this, you must specify 'dtype=object' when creating the ndarray\n",
            "  x_test, y_test = np.array(xs[idx:]), np.array(labels[idx:])\n"
          ],
          "name": "stderr"
        }
      ]
    },
    {
      "cell_type": "code",
      "metadata": {
        "id": "BNsWpFUtBNpq"
      },
      "source": [
        "#preprocessing\n",
        "\n",
        "import numpy as np\n",
        "def vectorize_sequences(sequences, dimension=10000): \n",
        "    results = np.zeros((len(sequences), dimension))\n",
        "    for i, sequence in enumerate(sequences):\n",
        "        results[i, sequence] = 1.\n",
        "    return results\n",
        "x_train = vectorize_sequences(train_data)\n",
        "x_test = vectorize_sequences(test_data)        "
      ],
      "execution_count": null,
      "outputs": []
    },
    {
      "cell_type": "code",
      "metadata": {
        "id": "q3LEUGcvyrmE"
      },
      "source": [
        "y_train = np.asarray(train_labels).astype('float32')\n",
        "y_test = np.asarray(test_labels).astype('float32')"
      ],
      "execution_count": null,
      "outputs": []
    },
    {
      "cell_type": "code",
      "metadata": {
        "id": "yxFubv6lzLuA"
      },
      "source": [
        "#Network architecture\n",
        "\n",
        "from keras import models\n",
        "from keras import layers\n",
        "\n",
        "model = models.Sequential()\n",
        "model.add(layers.Dense(16, activation='relu', input_shape=(10000,)))\n",
        "model.add(layers.Dense(16, activation='relu'))\n",
        "model.add(layers.Dense(1, activation= 'sigmoid'))"
      ],
      "execution_count": null,
      "outputs": []
    },
    {
      "cell_type": "code",
      "metadata": {
        "id": "3jVyvMYI1qoR"
      },
      "source": [
        "#configuring learning process\n",
        "\n",
        "model.compile(optimizer='rmsprop',\n",
        "              loss='binary_crossentropy',\n",
        "              metrics=['accuracy'])"
      ],
      "execution_count": null,
      "outputs": []
    },
    {
      "cell_type": "code",
      "metadata": {
        "id": "fQWyTQXB6Ynw"
      },
      "source": [
        "#Validation set\n",
        "\n",
        "x_val = x_train[:10000]\n",
        "partial_x_train = x_train[10000:]\n",
        "y_val = y_train[:10000]\n",
        "partial_y_train = y_train[10000:]"
      ],
      "execution_count": null,
      "outputs": []
    },
    {
      "cell_type": "code",
      "metadata": {
        "id": "skhhBgH677Ec",
        "colab": {
          "base_uri": "https://localhost:8080/"
        },
        "outputId": "e8a4eb11-5159-440d-fc49-2520099aa240"
      },
      "source": [
        "#Training\n",
        "\n",
        "history = model.fit(partial_x_train,\n",
        "                    partial_y_train,\n",
        "                    epochs=20,\n",
        "                    batch_size=512,\n",
        "                    validation_data=(x_val, y_val))\n"
      ],
      "execution_count": null,
      "outputs": [
        {
          "output_type": "stream",
          "text": [
            "Epoch 1/20\n",
            "30/30 [==============================] - 2s 52ms/step - loss: 0.6015 - accuracy: 0.6901 - val_loss: 0.3861 - val_accuracy: 0.8677\n",
            "Epoch 2/20\n",
            "30/30 [==============================] - 1s 31ms/step - loss: 0.3273 - accuracy: 0.9003 - val_loss: 0.3042 - val_accuracy: 0.8890\n",
            "Epoch 3/20\n",
            "30/30 [==============================] - 1s 32ms/step - loss: 0.2306 - accuracy: 0.9283 - val_loss: 0.3100 - val_accuracy: 0.8741\n",
            "Epoch 4/20\n",
            "30/30 [==============================] - 1s 31ms/step - loss: 0.1795 - accuracy: 0.9438 - val_loss: 0.2773 - val_accuracy: 0.8894\n",
            "Epoch 5/20\n",
            "30/30 [==============================] - 1s 31ms/step - loss: 0.1455 - accuracy: 0.9549 - val_loss: 0.2802 - val_accuracy: 0.8887\n",
            "Epoch 6/20\n",
            "30/30 [==============================] - 1s 31ms/step - loss: 0.1215 - accuracy: 0.9646 - val_loss: 0.2913 - val_accuracy: 0.8858\n",
            "Epoch 7/20\n",
            "30/30 [==============================] - 1s 31ms/step - loss: 0.1022 - accuracy: 0.9716 - val_loss: 0.3060 - val_accuracy: 0.8836\n",
            "Epoch 8/20\n",
            "30/30 [==============================] - 1s 31ms/step - loss: 0.0825 - accuracy: 0.9765 - val_loss: 0.3254 - val_accuracy: 0.8825\n",
            "Epoch 9/20\n",
            "30/30 [==============================] - 1s 32ms/step - loss: 0.0650 - accuracy: 0.9842 - val_loss: 0.3553 - val_accuracy: 0.8747\n",
            "Epoch 10/20\n",
            "30/30 [==============================] - 1s 31ms/step - loss: 0.0554 - accuracy: 0.9880 - val_loss: 0.3687 - val_accuracy: 0.8765\n",
            "Epoch 11/20\n",
            "30/30 [==============================] - 1s 31ms/step - loss: 0.0463 - accuracy: 0.9899 - val_loss: 0.4816 - val_accuracy: 0.8549\n",
            "Epoch 12/20\n",
            "30/30 [==============================] - 1s 31ms/step - loss: 0.0411 - accuracy: 0.9918 - val_loss: 0.4187 - val_accuracy: 0.8737\n",
            "Epoch 13/20\n",
            "30/30 [==============================] - 1s 31ms/step - loss: 0.0328 - accuracy: 0.9920 - val_loss: 0.4798 - val_accuracy: 0.8652\n",
            "Epoch 14/20\n",
            "30/30 [==============================] - 1s 31ms/step - loss: 0.0256 - accuracy: 0.9951 - val_loss: 0.4963 - val_accuracy: 0.8666\n",
            "Epoch 15/20\n",
            "30/30 [==============================] - 1s 31ms/step - loss: 0.0191 - accuracy: 0.9972 - val_loss: 0.5711 - val_accuracy: 0.8578\n",
            "Epoch 16/20\n",
            "30/30 [==============================] - 1s 30ms/step - loss: 0.0158 - accuracy: 0.9984 - val_loss: 0.5508 - val_accuracy: 0.8664\n",
            "Epoch 17/20\n",
            "30/30 [==============================] - 1s 31ms/step - loss: 0.0104 - accuracy: 0.9993 - val_loss: 0.6217 - val_accuracy: 0.8640\n",
            "Epoch 18/20\n",
            "30/30 [==============================] - 1s 31ms/step - loss: 0.0113 - accuracy: 0.9990 - val_loss: 0.6130 - val_accuracy: 0.8670\n",
            "Epoch 19/20\n",
            "30/30 [==============================] - 1s 31ms/step - loss: 0.0071 - accuracy: 0.9994 - val_loss: 0.6483 - val_accuracy: 0.8657\n",
            "Epoch 20/20\n",
            "30/30 [==============================] - 1s 31ms/step - loss: 0.0045 - accuracy: 0.9999 - val_loss: 0.6796 - val_accuracy: 0.8642\n"
          ],
          "name": "stdout"
        }
      ]
    },
    {
      "cell_type": "code",
      "metadata": {
        "id": "JqJ2AVGc9YdV",
        "colab": {
          "base_uri": "https://localhost:8080/",
          "height": 295
        },
        "outputId": "db9b4cff-ed6f-49a3-cb6f-d79b5e878289"
      },
      "source": [
        "# Training and Validation loss\n",
        "\n",
        "import matplotlib.pyplot as plt\n",
        "\n",
        "history_dict = history.history\n",
        "loss_values = history_dict['loss']\n",
        "val_loss_values = history_dict['val_loss']\n",
        "\n",
        "epochs = range(1, len(loss_values) + 1)\n",
        "\n",
        "plt.plot(epochs, loss_values, 'bo', label='Training loss')\n",
        "plt.plot(epochs, val_loss_values, 'b', label='Validation loss')\n",
        "plt.title('Training and validation loss')\n",
        "plt.xlabel('Epochs')\n",
        "plt.ylabel('Loss')\n",
        "plt.legend()\n",
        "\n",
        "plt.show()"
      ],
      "execution_count": null,
      "outputs": [
        {
          "output_type": "display_data",
          "data": {
            "image/png": "[encoded data removed]",
            "text/plain": [
              "<Figure size 432x288 with 1 Axes>"
            ]
          },
          "metadata": {
            "tags": [],
            "needs_background": "light"
          }
        }
      ]
    },
    {
      "cell_type": "code",
      "metadata": {
        "id": "-0uX4NPJEO0h"
      },
      "source": [
        ""
      ],
      "execution_count": null,
      "outputs": []
    },
    {
      "cell_type": "code",
      "metadata": {
        "id": "LgjSL4g1Ie3o",
        "colab": {
          "base_uri": "https://localhost:8080/",
          "height": 295
        },
        "outputId": "681280e1-1a94-462f-8b37-c63edc1e053a"
      },
      "source": [
        "# Training and Validation accuracy\n",
        "\n",
        "plt.clf()\n",
        "\n",
        "acc_values=history_dict['accuracy']\n",
        "val_acc_values=history_dict['val_accuracy']\n",
        "\n",
        "plt.plot(epochs, acc_values, 'bo', label='Training acc')\n",
        "plt.plot(epochs, val_acc_values, 'b', label='Validation acc')\n",
        "plt.title('Training and Validation accuracy')\n",
        "plt.xlabel('Epochs')\n",
        "plt.ylabel('Accuracy')\n",
        "plt.legend()\n",
        "\n",
        "plt.show()"
      ],
      "execution_count": null,
      "outputs": [
        {
          "output_type": "display_data",
          "data": {
            "image/png": "[encoded data removed]",
            "text/plain": [
              "<Figure size 432x288 with 1 Axes>"
            ]
          },
          "metadata": {
            "tags": [],
            "needs_background": "light"
          }
        }
      ]
    },
    {
      "cell_type": "code",
      "metadata": {
        "id": "O_R9TBm0rNon",
        "colab": {
          "base_uri": "https://localhost:8080/"
        },
        "outputId": "fa8880ed-f232-45e9-df48-4df71479b6b2"
      },
      "source": [
        "#Retrain\n",
        "#by using the validation data and according to the plots of both previous stages, we realized that epoch=4 is the best number,so we will train again:\n",
        "\n",
        "model = models.Sequential()\n",
        "model.add(layers.Dense(16, activation='relu', input_shape=(10000,)))\n",
        "model.add(layers.Dense(16, activation='relu'))\n",
        "model.add(layers.Dense(1, activation= 'sigmoid'))\n",
        "\n",
        "model.compile(optimizer='rmsprop',\n",
        "              loss='binary_crossentropy',\n",
        "              metrics=['accuracy'])\n",
        "\n",
        "history = model.fit(partial_x_train,\n",
        "                    partial_y_train,\n",
        "                    epochs=4,\n",
        "                    batch_size=512)\n",
        "results = model.evaluate(x_test, y_test)\n"
      ],
      "execution_count": null,
      "outputs": [
        {
          "output_type": "stream",
          "text": [
            "Epoch 1/4\n",
            "30/30 [==============================] - 1s 24ms/step - loss: 0.6170 - accuracy: 0.6958\n",
            "Epoch 2/4\n",
            "30/30 [==============================] - 1s 24ms/step - loss: 0.3543 - accuracy: 0.9001\n",
            "Epoch 3/4\n",
            "30/30 [==============================] - 1s 25ms/step - loss: 0.2565 - accuracy: 0.9241\n",
            "Epoch 4/4\n",
            "30/30 [==============================] - 1s 24ms/step - loss: 0.1942 - accuracy: 0.9440\n",
            "782/782 [==============================] - 1s 2ms/step - loss: 0.2907 - accuracy: 0.8847\n"
          ],
          "name": "stdout"
        }
      ]
    },
    {
      "cell_type": "code",
      "metadata": {
        "id": "V89MZIP6ux0S",
        "colab": {
          "base_uri": "https://localhost:8080/"
        },
        "outputId": "ec7cd83e-5659-4847-cbbf-a0222964c29b"
      },
      "source": [
        "predict = model.predict(x_test)\n",
        "predict"
      ],
      "execution_count": null,
      "outputs": [
        {
          "output_type": "execute_result",
          "data": {
            "text/plain": [
              "array([[0.1705563 ],\n",
              "       [0.99852777],\n",
              "       [0.7455042 ],\n",
              "       ...,\n",
              "       [0.07574809],\n",
              "       [0.09482387],\n",
              "       [0.40328914]], dtype=float32)"
            ]
          },
          "metadata": {
            "tags": []
          },
          "execution_count": 27
        }
      ]
    }
  ]
}